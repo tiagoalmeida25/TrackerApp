{
 "cells": [
  {
   "cell_type": "code",
   "execution_count": 43,
   "metadata": {},
   "outputs": [],
   "source": [
    "import numpy as np\n",
    "import pandas as pd\n",
    "import matplotlib.pyplot as plt\n",
    "from matplotlib import dates as mdates"
   ]
  },
  {
   "cell_type": "code",
   "execution_count": 33,
   "metadata": {},
   "outputs": [],
   "source": [
    "db = 'tiagoal1_tracker_app'\n",
    "ext = '.csv'\n",
    "df_category = pd.read_csv(db +ext +'/'+db+'_table_Category'+ext)\n",
    "df_user = pd.read_csv(db +ext+'/'+db+'_table_User'+ext)\n",
    "df_type = pd.read_csv(db +ext+'/'+db+'_table_Type'+ext)\n",
    "df_usercategory = pd.read_csv(db +ext+'/'+db+'_table_UserCategory'+ext)"
   ]
  },
  {
   "cell_type": "code",
   "execution_count": 34,
   "metadata": {},
   "outputs": [
    {
     "name": "stdout",
     "output_type": "stream",
     "text": [
      "id of Tiago is: 1\n"
     ]
    }
   ],
   "source": [
    "username = 'Tiago'\n",
    "user_idx = df_user['user_name'].loc[df_user['user_name'] == username].index[0]\n",
    "user_id = df_user['user_id'][user_idx]\n",
    "print('id of', username, 'is:',user_id)"
   ]
  },
  {
   "cell_type": "code",
   "execution_count": 35,
   "metadata": {},
   "outputs": [
    {
     "name": "stdout",
     "output_type": "stream",
     "text": [
      "Categories of Tiago :\n",
      " ['Series', 'Gastos', 'Contas', 'Teste', 'Alimentação', 'Transporte']\n",
      "[3, 6, 7, 8, 9, 10]\n"
     ]
    }
   ],
   "source": [
    "categories = list()\n",
    "categories_id = list()\n",
    "df_user = df_category.loc[df_category['user_id'] == user_id]\n",
    "for category,id in zip(df_user['category_name'],df_user['category_id']):\n",
    "    categories.append(category)\n",
    "    categories_id.append(id)\n",
    "    \n",
    "print('Categories of',username,':\\n',categories)\n",
    "print(categories_id)"
   ]
  },
  {
   "cell_type": "code",
   "execution_count": 36,
   "metadata": {},
   "outputs": [
    {
     "name": "stdout",
     "output_type": "stream",
     "text": [
      "--------------\n",
      "Category: Series\n",
      "[{'Category': 'Series', 'Type': 'Shield', 'id': 3}, {'Category': 'Series', 'Type': 'Orville', 'id': 9}]\n",
      "--------------\n",
      "Category: Gastos\n",
      "[{'Category': 'Gastos', 'Type': 'Uber', 'id': 7}]\n",
      "--------------\n",
      "Category: Contas\n",
      "[{'Category': 'Contas', 'Type': 'Dívidas', 'id': 8}]\n",
      "--------------\n",
      "Category: Teste\n",
      "[{'Category': 'Teste', 'Type': nan, 'id': 10}]\n",
      "--------------\n",
      "Category: Alimentação\n",
      "[{'Category': 'Alimentação', 'Type': 'Café', 'id': 11}, {'Category': 'Alimentação', 'Type': 'Café ', 'id': 14}]\n",
      "--------------\n",
      "Category: Transporte\n",
      "[{'Category': 'Transporte', 'Type': 'Autocarro', 'id': 12}, {'Category': 'Transporte', 'Type': 'Autocarro ', 'id': 13}]\n"
     ]
    }
   ],
   "source": [
    "categories_with_type = []\n",
    "types = list()\n",
    "i=0\n",
    "for each_id in categories_id:\n",
    "    df_user = df_type.loc[df_type['category_id'] == each_id]\n",
    "\n",
    "    types = []\n",
    "    print('--------------')\n",
    "    print('Category:',categories[i])\n",
    "    # types.append(categories[i])\n",
    "    for type,id in zip(df_user['type_name'],df_user['type_id']):\n",
    "        types.append({\n",
    "            \"Category\":categories[i],\n",
    "            \"Type\":type,\n",
    "            \"id\":id})\n",
    "        # print(type)\n",
    "    i+=1\n",
    "\n",
    "    print(types)\n",
    "    categories_with_type.append(types)\n",
    "    \n",
    "# print('Types of',username,':\\n',categories_with_type)"
   ]
  },
  {
   "cell_type": "code",
   "execution_count": 37,
   "metadata": {},
   "outputs": [
    {
     "name": "stdout",
     "output_type": "stream",
     "text": [
      "--------------\n",
      "Category Series\n",
      "Type Shield\n",
      "[{'Category': 'Series', 'Type': 'Shield', 'Value': 'Ep 10', 'Date': '2022-11-27 20:36:17'}, {'Category': 'Series', 'Type': 'Shield', 'Value': 'T1 Ep 11', 'Date': '2022-11-28 00:30:19'}, {'Category': 'Series', 'Type': 'Shield', 'Value': 'T1 Ep 12', 'Date': '2022-11-28 00:30:22'}, {'Category': 'Series', 'Type': 'Shield', 'Value': 'T1 Ep 13', 'Date': '2022-11-28 00:30:26'}, {'Category': 'Series', 'Type': 'Shield', 'Value': 'T1 Ep 14', 'Date': '2022-11-28 00:30:32'}]\n",
      "Category Series\n",
      "Type Orville\n",
      "[{'Category': 'Series', 'Type': 'Shield', 'Value': 'Ep 10', 'Date': '2022-11-27 20:36:17'}, {'Category': 'Series', 'Type': 'Shield', 'Value': 'T1 Ep 11', 'Date': '2022-11-28 00:30:19'}, {'Category': 'Series', 'Type': 'Shield', 'Value': 'T1 Ep 12', 'Date': '2022-11-28 00:30:22'}, {'Category': 'Series', 'Type': 'Shield', 'Value': 'T1 Ep 13', 'Date': '2022-11-28 00:30:26'}, {'Category': 'Series', 'Type': 'Shield', 'Value': 'T1 Ep 14', 'Date': '2022-11-28 00:30:32'}, {'Category': 'Series', 'Type': 'Orville', 'Value': 'S2 E2', 'Date': '2022-11-29 00:50:07'}, {'Category': 'Series', 'Type': 'Orville', 'Value': 'S2 E3', 'Date': '2022-11-29 00:50:10'}, {'Category': 'Series', 'Type': 'Orville', 'Value': 'S2 E4', 'Date': '2022-11-29 00:50:15'}, {'Category': 'Series', 'Type': 'Orville', 'Value': 'S2 E5', 'Date': '2022-11-29 00:50:19'}, {'Category': 'Series', 'Type': 'Orville', 'Value': 'S2 E6', 'Date': '2022-11-29 00:52:14'}]\n",
      "--------------\n",
      "Category Gastos\n",
      "Type Uber\n",
      "[{'Category': 'Gastos', 'Type': 'Uber', 'Value': '5.5', 'Date': '2022-11-28 00:57:27'}]\n",
      "--------------\n",
      "Category Contas\n",
      "Type Dívidas\n",
      "[{'Category': 'Contas', 'Type': 'Dívidas', 'Value': '69.59', 'Date': '2022-11-28 18:33:57'}]\n",
      "--------------\n",
      "Category Teste\n",
      "Type nan\n",
      "[{'Category': 'Teste', 'Type': nan, 'Value': 'A', 'Date': '2022-11-29 00:54:42'}]\n",
      "--------------\n",
      "Category Alimentação\n",
      "Type Café\n",
      "[{'Category': 'Alimentação', 'Type': 'Café', 'Value': '1', 'Date': '2022-11-29 10:00:02'}]\n",
      "Category Alimentação\n",
      "Type Café \n",
      "[{'Category': 'Alimentação', 'Type': 'Café', 'Value': '1', 'Date': '2022-11-29 10:00:02'}, {'Category': 'Alimentação', 'Type': 'Café ', 'Value': '1', 'Date': '2022-11-29 14:28:10'}]\n",
      "--------------\n",
      "Category Transporte\n",
      "Type Autocarro\n",
      "[{'Category': 'Transporte', 'Type': 'Autocarro', 'Value': '1', 'Date': '2022-11-29 10:00:13'}]\n",
      "Category Transporte\n",
      "Type Autocarro \n",
      "[{'Category': 'Transporte', 'Type': 'Autocarro', 'Value': '1', 'Date': '2022-11-29 10:00:13'}, {'Category': 'Transporte', 'Type': 'Autocarro ', 'Value': '1', 'Date': '2022-11-29 13:20:07'}]\n"
     ]
    }
   ],
   "source": [
    "categories_with_type_with_values = []\n",
    "types_with_values = []\n",
    "values = list()\n",
    "values_id = list()\n",
    "i=0\n",
    "category_idx = 0\n",
    "for category_idx in range(len(categories_with_type)):\n",
    "    print('--------------')\n",
    "\n",
    "\n",
    "    values = []\n",
    "    type_idx = 0\n",
    "    for type_idx in range(len(categories_with_type[category_idx])):\n",
    "        category = categories_with_type[category_idx][type_idx].get('Category')\n",
    "        print('Category',category)\n",
    "        type_id = categories_with_type[category_idx][type_idx].get('id')\n",
    "        type_name = categories_with_type[category_idx][type_idx].get('Type')\n",
    "        print('Type',type_name)\n",
    "\n",
    "        df_user = df_usercategory.loc[df_usercategory['type_id'] == type_id]\n",
    "\n",
    "        for value, date in zip(df_user['value'],df_user['date']):\n",
    "            value_final = {\n",
    "                \"Category\":category,\n",
    "                \"Type\":type_name,\n",
    "                \"Value\":value,\n",
    "                \"Date\":date\n",
    "                }\n",
    "            values.append(value_final)\n",
    "            # print(value_final)\n",
    "\n",
    "        print(values)\n",
    "        categories_with_type_with_values.append(values)\n",
    "    \n",
    "# print('Values of',username,':\\n',categories_with_type_with_values)"
   ]
  },
  {
   "cell_type": "code",
   "execution_count": 38,
   "metadata": {},
   "outputs": [
    {
     "name": "stdout",
     "output_type": "stream",
     "text": [
      "Category_idx: 0\n",
      "Type_idx: 0\n",
      "Series\n",
      "Shield\n",
      "Ep 10\n",
      "2022-11-27 20:36:17\n",
      "Type_idx: 1\n",
      "Series\n",
      "Shield\n",
      "T1 Ep 11\n",
      "2022-11-28 00:30:19\n",
      "Type_idx: 2\n",
      "Series\n",
      "Shield\n",
      "T1 Ep 12\n",
      "2022-11-28 00:30:22\n",
      "Type_idx: 3\n",
      "Series\n",
      "Shield\n",
      "T1 Ep 13\n",
      "2022-11-28 00:30:26\n",
      "Type_idx: 4\n",
      "Series\n",
      "Shield\n",
      "T1 Ep 14\n",
      "2022-11-28 00:30:32\n",
      "Type_idx: 5\n",
      "Series\n",
      "Orville\n",
      "S2 E2\n",
      "2022-11-29 00:50:07\n",
      "Type_idx: 6\n",
      "Series\n",
      "Orville\n",
      "S2 E3\n",
      "2022-11-29 00:50:10\n",
      "Type_idx: 7\n",
      "Series\n",
      "Orville\n",
      "S2 E4\n",
      "2022-11-29 00:50:15\n",
      "Type_idx: 8\n",
      "Series\n",
      "Orville\n",
      "S2 E5\n",
      "2022-11-29 00:50:19\n",
      "Type_idx: 9\n",
      "Series\n",
      "Orville\n",
      "S2 E6\n",
      "2022-11-29 00:52:14\n",
      "Category_idx: 1\n",
      "Type_idx: 0\n",
      "Series\n",
      "Shield\n",
      "Ep 10\n",
      "2022-11-27 20:36:17\n",
      "Type_idx: 1\n",
      "Series\n",
      "Shield\n",
      "T1 Ep 11\n",
      "2022-11-28 00:30:19\n",
      "Type_idx: 2\n",
      "Series\n",
      "Shield\n",
      "T1 Ep 12\n",
      "2022-11-28 00:30:22\n",
      "Type_idx: 3\n",
      "Series\n",
      "Shield\n",
      "T1 Ep 13\n",
      "2022-11-28 00:30:26\n",
      "Type_idx: 4\n",
      "Series\n",
      "Shield\n",
      "T1 Ep 14\n",
      "2022-11-28 00:30:32\n",
      "Type_idx: 5\n",
      "Series\n",
      "Orville\n",
      "S2 E2\n",
      "2022-11-29 00:50:07\n",
      "Type_idx: 6\n",
      "Series\n",
      "Orville\n",
      "S2 E3\n",
      "2022-11-29 00:50:10\n",
      "Type_idx: 7\n",
      "Series\n",
      "Orville\n",
      "S2 E4\n",
      "2022-11-29 00:50:15\n",
      "Type_idx: 8\n",
      "Series\n",
      "Orville\n",
      "S2 E5\n",
      "2022-11-29 00:50:19\n",
      "Type_idx: 9\n",
      "Series\n",
      "Orville\n",
      "S2 E6\n",
      "2022-11-29 00:52:14\n",
      "Category_idx: 2\n",
      "Type_idx: 0\n",
      "Gastos\n",
      "Uber\n",
      "5.5\n",
      "2022-11-28 00:57:27\n",
      "Category_idx: 3\n",
      "Type_idx: 0\n",
      "Contas\n",
      "Dívidas\n",
      "69.59\n",
      "2022-11-28 18:33:57\n",
      "Category_idx: 4\n",
      "Type_idx: 0\n",
      "Teste\n",
      "nan\n",
      "A\n",
      "2022-11-29 00:54:42\n",
      "Category_idx: 5\n",
      "Type_idx: 0\n",
      "Alimentação\n",
      "Café\n",
      "1\n",
      "2022-11-29 10:00:02\n",
      "Type_idx: 1\n",
      "Alimentação\n",
      "Café \n",
      "1\n",
      "2022-11-29 14:28:10\n",
      "Category_idx: 6\n",
      "Type_idx: 0\n",
      "Alimentação\n",
      "Café\n",
      "1\n",
      "2022-11-29 10:00:02\n",
      "Type_idx: 1\n",
      "Alimentação\n",
      "Café \n",
      "1\n",
      "2022-11-29 14:28:10\n",
      "Category_idx: 7\n",
      "Type_idx: 0\n",
      "Transporte\n",
      "Autocarro\n",
      "1\n",
      "2022-11-29 10:00:13\n",
      "Type_idx: 1\n",
      "Transporte\n",
      "Autocarro \n",
      "1\n",
      "2022-11-29 13:20:07\n",
      "Category_idx: 8\n",
      "Type_idx: 0\n",
      "Transporte\n",
      "Autocarro\n",
      "1\n",
      "2022-11-29 10:00:13\n",
      "Type_idx: 1\n",
      "Transporte\n",
      "Autocarro \n",
      "1\n",
      "2022-11-29 13:20:07\n"
     ]
    }
   ],
   "source": [
    "# category_idx = 0\n",
    "# type_idx = 0\n",
    "max_categories = len(categories_with_type_with_values)\n",
    "max_values = [len(x) for x in categories_with_type_with_values]\n",
    "\n",
    "categories = []\n",
    "types = []\n",
    "values = []\n",
    "dates = []\n",
    "\n",
    "for category_idx in range(len(categories_with_type_with_values)):\n",
    "    print('Category_idx:',category_idx)\n",
    "    for type_idx in range(len(categories_with_type_with_values[category_idx])):\n",
    "        print('Type_idx:',type_idx)\n",
    "        category = categories_with_type_with_values[category_idx][type_idx].get(\"Category\")\n",
    "        type = categories_with_type_with_values[category_idx][type_idx].get(\"Type\")\n",
    "        value = categories_with_type_with_values[category_idx][type_idx].get(\"Value\")\n",
    "        date = categories_with_type_with_values[category_idx][type_idx].get(\"Date\")\n",
    "\n",
    "        print(category)\n",
    "        print(type)\n",
    "        print(value)\n",
    "        print(date)\n",
    "        \n",
    "        categories.append(category)\n",
    "        types.append(type)\n",
    "        values.append(value)\n",
    "        dates.append(date)\n",
    "\n",
    "# print(categories)\n",
    "# print(types)\n",
    "# print(values)\n",
    "# print(dates)\n",
    "\n",
    "user = {\n",
    "    \"Category\": categories,\n",
    "    \"Type\": types,\n",
    "    \"Value\": values,\n",
    "    \"Date\": dates\n",
    "}\n",
    "\n",
    "df = pd.DataFrame(user)"
   ]
  },
  {
   "cell_type": "code",
   "execution_count": 39,
   "metadata": {},
   "outputs": [],
   "source": [
    "df['Date'] = pd.to_datetime(df['Date'])"
   ]
  },
  {
   "cell_type": "code",
   "execution_count": 109,
   "metadata": {},
   "outputs": [
    {
     "name": "stdout",
     "output_type": "stream",
     "text": [
      "**************\n",
      "User: Tiago\n",
      "--------------\n",
      "Categories:\n",
      "['Series' 'Gastos' 'Contas' 'Teste' 'Alimentação' 'Transporte']\n",
      "--------------\n"
     ]
    }
   ],
   "source": [
    "print('**************')\n",
    "print('User:',username)\n",
    "print('--------------')\n",
    "print('Categories:')\n",
    "categories = df['Category'].unique()\n",
    "print(categories)\n",
    "# user_categories = []\n",
    "# for each in categories:\n",
    "#     if each not in user_categories:\n",
    "#         user_categories.append(each)\n",
    "#         print(each)\n",
    "print('--------------')\n",
    "\n",
    "# plt.plot(df[])"
   ]
  },
  {
   "cell_type": "code",
   "execution_count": 63,
   "metadata": {},
   "outputs": [
    {
     "data": {
      "image/png": "[encoded data removed]",
      "text/plain": [
       "<Figure size 2000x1000 with 1 Axes>"
      ]
     },
     "metadata": {},
     "output_type": "display_data"
    }
   ],
   "source": [
    "time = df['Date']\n",
    "df_category = df['Category']\n",
    "\n",
    "plt.figure(figsize=(20,10))\n",
    "# plt.title(title)\n",
    "dtFmt = mdates.DateFormatter('%d-%b-%Y %H:%M:%S')\n",
    "ax = plt.axes()\n",
    "plt.gca().xaxis.set_major_formatter(dtFmt)\n",
    "plt.gca().xaxis.set_major_locator(mdates.HourLocator())\n",
    "# plt.gca().yaxis.set_major_locator(plt.MaxNLocator(50))\n",
    "# plt.ylim(bottom=1)\n",
    "plt.plot(df['Date'], df['Category'],'ro',markersize=10)\n",
    "plt.xticks(rotation=60, fontweight='light')\n",
    "# plt.xlim([pd.to_datetime('2018-06-10'),pd.to_datetime('2022-11-18')])\n",
    "# plt.xlim([pd.to_datetime('2019-03-15'),pd.to_datetime('2019-03-22')])\n",
    "plt.show()"
   ]
  },
  {
   "cell_type": "code",
   "execution_count": 116,
   "metadata": {},
   "outputs": [
    {
     "data": {
      "image/png": "[encoded data removed]",
      "text/plain": [
       "<Figure size 640x480 with 1 Axes>"
      ]
     },
     "metadata": {},
     "output_type": "display_data"
    }
   ],
   "source": [
    "categories_freq = df['Category'].value_counts()\n",
    "plt.pie(categories_freq,labels=categories)\n",
    "plt.show()"
   ]
  }
 ],
 "metadata": {
  "kernelspec": {
   "display_name": "Python 3.11.0 64-bit",
   "language": "python",
   "name": "python3"
  },
  "language_info": {
   "codemirror_mode": {
    "name": "ipython",
    "version": 3
   },
   "file_extension": ".py",
   "mimetype": "text/x-python",
   "name": "python",
   "nbconvert_exporter": "python",
   "pygments_lexer": "ipython3",
   "version": "3.11.0"
  },
  "orig_nbformat": 4,
  "vscode": {
   "interpreter": {
    "hash": "b5b2de286a3b9fdabcd4282baccd5fb27b3bb63f71da56a8a357c0fdb99907af"
   }
  }
 },
 "nbformat": 4,
 "nbformat_minor": 2
}
