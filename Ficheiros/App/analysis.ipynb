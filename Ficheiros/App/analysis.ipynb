{
 "cells": [
  {
   "cell_type": "code",
   "execution_count": 20,
   "metadata": {},
   "outputs": [
    {
     "name": "stdout",
     "output_type": "stream",
     "text": [
      "Alimentação  - Float\n",
      "Casa  - Float\n",
      "Compras  - Float\n",
      "Entretenimento  - Float\n",
      "Gastos  - Float\n",
      "Gym  - str\n",
      "Livros  - Float\n",
      "Outros  - Float\n",
      "Review  - str\n",
      "Tarot  - Float\n",
      "Transporte  - Float\n"
     ]
    }
   ],
   "source": [
    "import pandas as pd\n",
    "import numpy as np\n",
    "from get_data import create_dataframe\n",
    "\n",
    "username = \"'Tiago'\"\n",
    "\n",
    "df = create_dataframe(username)\n",
    "\n",
    "categories = df['Category'].unique()\n",
    "\n",
    "df_categories = list()\n",
    "for category in categories:\n",
    "    df_category = df.loc[df['Category'] == category].copy()\n",
    "    try:\n",
    "        df_category['Value'] = df_category['Value'].astype('float64')\n",
    "        print(df_category['Category'].iloc[0], ' - Float')\n",
    "    except ValueError:\n",
    "        print(df_category['Category'].iloc[0], ' - str')\n",
    "        pass \n",
    "    df_categories.append(df_category)"
   ]
  },
  {
   "cell_type": "code",
   "execution_count": 26,
   "metadata": {},
   "outputs": [
    {
     "name": "stdout",
     "output_type": "stream",
     "text": [
      "Category: Transporte between 2023-01-01 and 2023-01-31 \n",
      "\n",
      "18 - Autocarro: 19.00\n",
      "3 - Gira: 3.00\n",
      "3 - Metro: 3.00\n",
      "11 - Uber: 65.38\n",
      "\n",
      "Total: 90.38\n"
     ]
    }
   ],
   "source": [
    "category = 'Transporte'\n",
    "range_begin = '2023-01-01'\n",
    "range_end = '2023-01-31'\n",
    "\n",
    "df_category = df_categories[categories.tolist().index(category)]\n",
    "df_category = df_category.loc[(df_category['Date'] >= range_begin) & (df_category['Date'] <= range_end)]\n",
    "\n",
    "types = df_category['Type'].unique()\n",
    "\n",
    "print('Category:', category, 'between', range_begin,'and', range_end,'\\n')\n",
    "total_sum = []\n",
    "for each_type in types:\n",
    "    df_type = df_category.loc[df_category['Type'] == each_type]\n",
    "\n",
    "    type_freq = df_type.count()[0]\n",
    "    type_sum = sum(df_type['Value'])\n",
    "    total_sum.append(type_sum)\n",
    "\n",
    "    print(type_freq, '-', each_type + ': %.2f' % type_sum)\n",
    "\n",
    "print('\\nTotal: %.2f' % sum(total_sum))"
   ]
  }
 ],
 "metadata": {
  "kernelspec": {
   "display_name": "Python 3",
   "language": "python",
   "name": "python3"
  },
  "language_info": {
   "codemirror_mode": {
    "name": "ipython",
    "version": 3
   },
   "file_extension": ".py",
   "mimetype": "text/x-python",
   "name": "python",
   "nbconvert_exporter": "python",
   "pygments_lexer": "ipython3",
   "version": "3.9.13"
  },
  "orig_nbformat": 4,
  "vscode": {
   "interpreter": {
    "hash": "d86b8aa2fa1cd854ea2b7cf79d5d7c9edb29ab63787a9639319c72fd28a21d9a"
   }
  }
 },
 "nbformat": 4,
 "nbformat_minor": 2
}
