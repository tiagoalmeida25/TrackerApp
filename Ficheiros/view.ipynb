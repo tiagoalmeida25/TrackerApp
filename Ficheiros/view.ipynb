{
 "cells": [
  {
   "cell_type": "code",
   "execution_count": 134,
   "metadata": {},
   "outputs": [],
   "source": [
    "import numpy as np\n",
    "import pandas as pd\n",
    "import matplotlib.pyplot as plt\n",
    "from matplotlib import dates as mdates\n",
    "from matplotlib.gridspec import GridSpec\n",
    "\n",
    "import create_df"
   ]
  },
  {
   "cell_type": "code",
   "execution_count": 135,
   "metadata": {},
   "outputs": [],
   "source": [
    "username = 'Tiago'\n",
    "\n",
    "#import create_df\n",
    "df = create_df.create_df(username)"
   ]
  },
  {
   "cell_type": "code",
   "execution_count": 136,
   "metadata": {},
   "outputs": [],
   "source": [
    "categories = df['Category'].unique()"
   ]
  },
  {
   "cell_type": "code",
   "execution_count": 137,
   "metadata": {},
   "outputs": [],
   "source": [
    "# create a dataframe for each category\n",
    "df_categories = list()\n",
    "for category in categories:\n",
    "    df_category = df.loc[df['Category'] == category].copy()\n",
    "    df_categories.append(df_category)\n",
    "    \n",
    "# convert Item to float if possible, else keep it as string\n",
    "for df_category in df_categories:\n",
    "    first_item = df_category['Item'].iloc[0]\n",
    "    #check if first item is convertible to float\n",
    "    try:\n",
    "        float(first_item)\n",
    "        df_category['Item'] = df_category['Item'].astype('float64')\n",
    "    except ValueError:\n",
    "        pass "
   ]
  },
  {
   "cell_type": "code",
   "execution_count": 138,
   "metadata": {},
   "outputs": [],
   "source": [
    "def get_category_df(df_categories, category):\n",
    "    df_category = df_categories[categories.tolist().index(category)]\n",
    "    return df_category\n",
    "\n",
    "def get_type_df(df_category, type):\n",
    "    df_type = df_category.loc[df_category['Type'] == type]\n",
    "    return df_type"
   ]
  },
  {
   "cell_type": "code",
   "execution_count": 139,
   "metadata": {},
   "outputs": [],
   "source": [
    "def time_series(type_of, df):\n",
    "    values = df['Item']\n",
    "    dates = df['Date']\n",
    "\n",
    "    dtFmt = mdates.DateFormatter('%d-%b-%Y %H:%M')\n",
    "\n",
    "    plt.gca().xaxis.set_major_formatter(dtFmt)\n",
    "    plt.gca().xaxis.set_major_locator(mdates.DayLocator(range(1,31,2)))\n",
    "    plt.gca().yaxis.set_major_locator(plt.MaxNLocator(10))\n",
    "    # plt.gca().xaxis.set_major_locator(mdates.HourLocator(byhour=(range(0,24,24))))\n",
    "    plt.xticks(rotation=15, fontweight='light')\n",
    "    \n",
    "    # plt.plot(dates,values, color='red')\n",
    "    plt.bar(dates,values, width=0.1, color=['purple','green','blue','yellow','orange','red','pink','brown','grey','black'])\n",
    "\n",
    "    plt.title(category + ' - ' + type_of)\n",
    "    plt.xlabel('Date')\n",
    "    plt.ylabel('Item')"
   ]
  },
  {
   "cell_type": "code",
   "execution_count": 140,
   "metadata": {},
   "outputs": [],
   "source": [
    "# pie chart of types\n",
    "def pie_chart(df):\n",
    "    types = df['Type'].unique()\n",
    "    values = list()\n",
    "\n",
    "    # if df['Item'].dtype == 'float64':\n",
    "    #     for type in types:\n",
    "    #         df_type = df.loc[df['Type'] == type]\n",
    "    #         values.append(df_type['Item'].sum())\n",
    "\n",
    "    #     explode = [0.1 for i in range(len(types))]\n",
    "    #     plt.pie(values, labels=types, explode=explode, autopct='%1.1f%%',colors=['red', 'orange', 'yellow', 'blue', 'green', 'purple'])\n",
    "    # else:\n",
    "    values = df['Type'].value_counts()\n",
    "\n",
    "    explode = [0.1 for i in range(len(types))]\n",
    "    plt.pie(values, labels=types, explode=explode, autopct='%1.1f%%',colors=['red', 'orange', 'yellow', 'blue','green','purple'])\n",
    "\n",
    "    # count the frequency of each type\n",
    "    # values = df['Type'].value_counts()\n",
    "\n",
    "    plt.title('Pie chart of ' + category)\n",
    "\n",
    "def pie_chart_all_categories(df):\n",
    "    unique_categories = df['Category'].unique()\n",
    "\n",
    "    values = list()\n",
    "\n",
    "    values = df['Category'].value_counts()\n",
    "\n",
    "    explode = [0.1 for i in range(len(categories))]\n",
    "    plt.pie(values, labels=unique_categories, explode=explode, autopct='%1.1f%%',colors=['red', 'orange', 'yellow', 'blue','green','purple','brown','grey','black','pink'])\n",
    "\n",
    "    plt.title('Pie chart of all categories')"
   ]
  },
  {
   "cell_type": "code",
   "execution_count": 141,
   "metadata": {},
   "outputs": [],
   "source": [
    "# bar chart of types\n",
    "def bar_chart(df):\n",
    "    types = df['Type'].unique()\n",
    "    values = list()\n",
    "\n",
    "    if df['Item'].dtype == 'float64':\n",
    "        for type in types:\n",
    "            df_type = df.loc[df['Type'] == type]\n",
    "            values.append(df_type['Item'].sum())\n",
    "\n",
    "        plt.bar(types, values, color=['red', 'orange', 'yellow', 'blue', 'green', 'purple'])\n",
    "        for i, v in enumerate(values):\n",
    "            plt.text(i, v-max(values)/15, str(round(v,2)), color='black', ha='center')\n",
    "    else:\n",
    "        for type in types:\n",
    "            values.append(len(df.loc[df['Type']==type]))\n",
    "        plt.bar(types, values, color=['red', 'orange', 'yellow', 'blue', 'green', 'purple'])\n",
    "\n",
    "    plt.title('Bar chart of ' + category)"
   ]
  },
  {
   "cell_type": "code",
   "execution_count": 142,
   "metadata": {},
   "outputs": [],
   "source": [
    "def plot_in_one(df_category, df_type, df, types):\n",
    "    fig = plt.figure(figsize=(10, 5*len(types)))\n",
    "    gs = GridSpec(nrows=len(types)+2, ncols=3,hspace = .5)\n",
    "\n",
    "    ax0 = fig.add_subplot(gs[0, 0])\n",
    "    pie_chart_all_categories(df)\n",
    "\n",
    "    ax1 = fig.add_subplot(gs[0, 1])\n",
    "    pie_chart(df_category)\n",
    "\n",
    "    ax2 = fig.add_subplot(gs[0, 2])\n",
    "    bar_chart(df_category)\n",
    "    \n",
    "    for each_type in types:\n",
    "        df_type = df_category.loc[df_category['Type'] == each_type]\n",
    "        ax3 = fig.add_subplot(gs[types.tolist().index(each_type) + 1, :])\n",
    "        time_series(each_type,df_type)\n",
    "\n",
    "    plt.show()"
   ]
  },
  {
   "cell_type": "code",
   "execution_count": 159,
   "metadata": {},
   "outputs": [
    {
     "name": "stdout",
     "output_type": "stream",
     "text": [
      "Categories of Tiago :\n",
      " ['Series' 'Gastos' 'Contas' 'Alimentação' 'Transporte' 'Songs' 'Neopolis'\n",
      " 'Gym' 'Tarot']\n",
      "\n",
      "Types of Transporte :\n",
      " ['Autocarro' 'Uber' 'Trotinete' 'Comboio' 'Avião' 'Gira' 'Metro']\n",
      "\n",
      "Transporte Autocarro: 11.00\n",
      "Transporte Uber: 2.00\n",
      "Transporte Trotinete: 4.00\n",
      "Transporte Comboio: 3.00\n",
      "Transporte Avião: 2.00\n",
      "Transporte Gira: 3.00\n",
      "Transporte Metro: 1.00\n",
      "Total: 26.00\n"
     ]
    }
   ],
   "source": [
    "category = 'Transporte'\n",
    "type_of = 'Rendas'\n",
    "\n",
    "\n",
    "df_category = get_category_df(df_categories, category)\n",
    "df_type = get_type_df(df_category, type_of)\n",
    "\n",
    "types = df_category['Type'].unique()\n",
    "\n",
    "print('Categories of', username,':\\n', categories)\n",
    "print('\\nTypes of', category,':\\n', df_category['Type'].unique())\n",
    "\n",
    "# plot_in_one(df_category, df_type,df, types)\n",
    "\n",
    "print()\n",
    "# df_category = df_category.loc[df_category['Date'] >= '2022-12-01']\n",
    "total_sum = []\n",
    "for each in types:\n",
    "    df_type = get_type_df(df_category, each)\n",
    "    type_sum = sum(df_type['Item'])\n",
    "    total_sum.append(type_sum)\n",
    "\n",
    "    print(category + ' ' + each + ': %.2f' % type_sum)\n",
    "\n",
    "print('Total: %.2f' % sum(total_sum))"
   ]
  }
 ],
 "metadata": {
  "kernelspec": {
   "display_name": "Python 3",
   "language": "python",
   "name": "python3"
  },
  "language_info": {
   "codemirror_mode": {
    "name": "ipython",
    "version": 3
   },
   "file_extension": ".py",
   "mimetype": "text/x-python",
   "name": "python",
   "nbconvert_exporter": "python",
   "pygments_lexer": "ipython3",
   "version": "3.9.13 (tags/v3.9.13:6de2ca5, May 17 2022, 16:36:42) [MSC v.1929 64 bit (AMD64)]"
  },
  "orig_nbformat": 4,
  "vscode": {
   "interpreter": {
    "hash": "d86b8aa2fa1cd854ea2b7cf79d5d7c9edb29ab63787a9639319c72fd28a21d9a"
   }
  }
 },
 "nbformat": 4,
 "nbformat_minor": 2
}
